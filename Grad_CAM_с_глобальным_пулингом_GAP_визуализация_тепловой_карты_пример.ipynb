{
  "nbformat": 4,
  "nbformat_minor": 0,
  "metadata": {
    "colab": {
      "provenance": [],
      "authorship_tag": "ABX9TyOiGqqxuhmLKh7Y4tUZQnYA",
      "include_colab_link": true
    },
    "kernelspec": {
      "name": "python3",
      "display_name": "Python 3"
    },
    "language_info": {
      "name": "python"
    }
  },
  "cells": [
    {
      "cell_type": "markdown",
      "metadata": {
        "id": "view-in-github",
        "colab_type": "text"
      },
      "source": [
        "<a href=\"https://colab.research.google.com/github/itc202/praktik/blob/main/Grad_CAM_%D1%81_%D0%B3%D0%BB%D0%BE%D0%B1%D0%B0%D0%BB%D1%8C%D0%BD%D1%8B%D0%BC_%D0%BF%D1%83%D0%BB%D0%B8%D0%BD%D0%B3%D0%BE%D0%BC_GAP_%D0%B2%D0%B8%D0%B7%D1%83%D0%B0%D0%BB%D0%B8%D0%B7%D0%B0%D1%86%D0%B8%D1%8F_%D1%82%D0%B5%D0%BF%D0%BB%D0%BE%D0%B2%D0%BE%D0%B9_%D0%BA%D0%B0%D1%80%D1%82%D1%8B_%D0%BF%D1%80%D0%B8%D0%BC%D0%B5%D1%80.ipynb\" target=\"_parent\"><img src=\"https://colab.research.google.com/assets/colab-badge.svg\" alt=\"Open In Colab\"/></a>"
      ]
    },
    {
      "cell_type": "markdown",
      "source": [
        "**Grad-CAM с использованием весов GAP**:\n",
        "в данном случае не обязательно использовать поиск градиентов для построения карты активации (heatmap), если в модели используется Global Average Pooling (GAP) и есть веса между последним сверточным слоем и выходным плотным слоем. Вы можете использовать эти веса напрямую для вычисления карты активации.\n",
        "**Почему это возможно?**\n",
        "Global Average Pooling (GAP) преобразует каждый канал выходного тензора последнего сверточного слоя в одно значение (среднее значение активаций по пространственным измерениям). Эти значения затем передаются в плотный слой, где они умножаются на веса, соответствующие каждому классу. Таким образом, веса между последним сверточным слоем и выходным слоем уже содержат информацию о важности каждого канала для конкретного класса.\n",
        "*Иное объяснение*: дело в том что в GradCAM вычисляются вектор градиентов, который есть вектор частных производных по координатам, показывающий значимость их для своего класса. При использовании в GAP линейной активации между этими слоями веса между ними как раз и будут результатами взятия этих частныых производстных.Так что применение GAP с одним на выходе слоем классифицирующим слоем dense все упрощает.\n",
        "\n",
        "**Как это работает?**\n",
        "Для построения карты активации (heatmap) можно:\n",
        "Взять веса, соединяющие последний сверточный слой с выходным слоем (softmax).\n",
        "Умножить эти веса на активации соответствующих каналов последнего сверточного слоя.\n",
        "Суммировать взвешенные активации по всем каналам, чтобы получить карту активации для конкретного класса."
      ],
      "metadata": {
        "id": "6h8hj5zuwERf"
      }
    },
    {
      "cell_type": "code",
      "execution_count": 1,
      "metadata": {
        "id": "9U3RWfiymUoL"
      },
      "outputs": [],
      "source": [
        "# Импорт необходимых библиотек\n",
        "import numpy as np\n",
        "import matplotlib.pyplot as plt\n",
        "import tensorflow as tf\n",
        "from tensorflow.keras import layers, models\n",
        "from tensorflow.keras.datasets import cifar10\n",
        "from tensorflow.keras.utils import to_categorical\n",
        "import random"
      ]
    },
    {
      "cell_type": "markdown",
      "source": [
        " Загрузка и подготовка данных CIFAR-10"
      ],
      "metadata": {
        "id": "CCp4mdh2mijZ"
      }
    },
    {
      "cell_type": "code",
      "source": [
        "# Загрузка датасета CIFAR-10\n",
        "(x_train, y_train), (x_test, y_test) = cifar10.load_data()\n",
        "\n",
        "# Нормализация данных (приведение значений пикселей к диапазону [0, 1])\n",
        "x_train, x_test = x_train / 255.0, x_test / 255.0\n",
        "\n",
        "# Преобразование меток в one-hot encoding\n",
        "y_train, y_test = to_categorical(y_train), to_categorical(y_test)\n",
        "\n",
        "# Вывод информации о данных\n",
        "print(f\"Размер тренировочного набора: {x_train.shape}\")\n",
        "print(f\"Размер тестового набора: {x_test.shape}\")"
      ],
      "metadata": {
        "colab": {
          "base_uri": "https://localhost:8080/"
        },
        "id": "KdQl3wvQmknw",
        "outputId": "be9b0fe4-f3bf-4173-bb37-0365f37dff82"
      },
      "execution_count": 2,
      "outputs": [
        {
          "output_type": "stream",
          "name": "stdout",
          "text": [
            "Downloading data from https://www.cs.toronto.edu/~kriz/cifar-10-python.tar.gz\n",
            "\u001b[1m170498071/170498071\u001b[0m \u001b[32m━━━━━━━━━━━━━━━━━━━━\u001b[0m\u001b[37m\u001b[0m \u001b[1m2s\u001b[0m 0us/step\n",
            "Размер тренировочного набора: (50000, 32, 32, 3)\n",
            "Размер тестового набора: (10000, 32, 32, 3)\n"
          ]
        }
      ]
    },
    {
      "cell_type": "markdown",
      "source": [
        " Определение и обучение нейросети"
      ],
      "metadata": {
        "id": "VxbXjmvXmuKO"
      }
    },
    {
      "cell_type": "code",
      "source": [
        "# Определение сверточной нейросети\n",
        "def create_model():\n",
        "    model = models.Sequential([\n",
        "        layers.Conv2D(32, (3, 3), activation='relu', input_shape=(32, 32, 3)),\n",
        "        layers.MaxPooling2D((2, 2)),\n",
        "        layers.Conv2D(64, (3, 3), activation='relu'),\n",
        "        layers.MaxPooling2D((2, 2)),\n",
        "        layers.Conv2D(128, (3, 3), activation='relu'),\n",
        "        layers.GlobalAveragePooling2D(),  # Global Average Pooling\n",
        "        layers.Dense(10, activation='softmax')  # Выходной слой для 10 классов\n",
        "    ])\n",
        "    return model\n",
        "\n",
        "# Создание модели\n",
        "model = create_model()\n",
        "\n",
        "# Компиляция модели\n",
        "model.compile(optimizer='adam', loss='categorical_crossentropy', metrics=['accuracy'])\n"
      ],
      "metadata": {
        "colab": {
          "base_uri": "https://localhost:8080/"
        },
        "id": "65oiVT29mteA",
        "outputId": "158dc068-6cd1-4e90-fb75-9869123bbd1f"
      },
      "execution_count": 3,
      "outputs": [
        {
          "output_type": "stream",
          "name": "stderr",
          "text": [
            "/usr/local/lib/python3.11/dist-packages/keras/src/layers/convolutional/base_conv.py:107: UserWarning: Do not pass an `input_shape`/`input_dim` argument to a layer. When using Sequential models, prefer using an `Input(shape)` object as the first layer in the model instead.\n",
            "  super().__init__(activity_regularizer=activity_regularizer, **kwargs)\n"
          ]
        }
      ]
    },
    {
      "cell_type": "code",
      "source": [
        "# Обучение модели\n",
        "history = model.fit(x_train, y_train, epochs=5, batch_size=64, validation_data=(x_test, y_test))"
      ],
      "metadata": {
        "colab": {
          "base_uri": "https://localhost:8080/"
        },
        "id": "Ave6y-Ainkee",
        "outputId": "8a9682ff-6ea4-46f0-c700-534b8ca5f994"
      },
      "execution_count": 47,
      "outputs": [
        {
          "output_type": "stream",
          "name": "stdout",
          "text": [
            "Epoch 1/5\n",
            "\u001b[1m782/782\u001b[0m \u001b[32m━━━━━━━━━━━━━━━━━━━━\u001b[0m\u001b[37m\u001b[0m \u001b[1m64s\u001b[0m 82ms/step - accuracy: 0.4691 - loss: 1.4602 - val_accuracy: 0.4997 - val_loss: 1.3712\n",
            "Epoch 2/5\n",
            "\u001b[1m782/782\u001b[0m \u001b[32m━━━━━━━━━━━━━━━━━━━━\u001b[0m\u001b[37m\u001b[0m \u001b[1m81s\u001b[0m 81ms/step - accuracy: 0.5349 - loss: 1.3100 - val_accuracy: 0.5480 - val_loss: 1.2678\n",
            "Epoch 3/5\n",
            "\u001b[1m782/782\u001b[0m \u001b[32m━━━━━━━━━━━━━━━━━━━━\u001b[0m\u001b[37m\u001b[0m \u001b[1m83s\u001b[0m 82ms/step - accuracy: 0.5729 - loss: 1.2001 - val_accuracy: 0.5962 - val_loss: 1.1445\n",
            "Epoch 4/5\n",
            "\u001b[1m782/782\u001b[0m \u001b[32m━━━━━━━━━━━━━━━━━━━━\u001b[0m\u001b[37m\u001b[0m \u001b[1m82s\u001b[0m 82ms/step - accuracy: 0.6052 - loss: 1.1276 - val_accuracy: 0.6225 - val_loss: 1.0744\n",
            "Epoch 5/5\n",
            "\u001b[1m782/782\u001b[0m \u001b[32m━━━━━━━━━━━━━━━━━━━━\u001b[0m\u001b[37m\u001b[0m \u001b[1m78s\u001b[0m 78ms/step - accuracy: 0.6234 - loss: 1.0666 - val_accuracy: 0.6276 - val_loss: 1.0479\n"
          ]
        }
      ]
    },
    {
      "cell_type": "markdown",
      "source": [
        "Функция для визуализации тепловой карты (heatmap)"
      ],
      "metadata": {
        "id": "owjuW5EXmyzC"
      }
    },
    {
      "cell_type": "code",
      "source": [
        "# Функция для построения тепловой карты (heatmap) с использованием весов GAP\n",
        "def grad_cam_with_weights(model, img, class_idx):\n",
        "    # Получаем выход последнего сверточного слоя\n",
        "    last_conv_layer = model.get_layer(index=-3)  # Последний сверточный слой\n",
        "    conv_model = tf.keras.models.Model([model.inputs], [last_conv_layer.output])\n",
        "    conv_outputs = conv_model(np.expand_dims(img, axis=0))[0]  # Активации сверточного слоя\n",
        "\n",
        "    # Получаем веса между GAP и выходным слоем\n",
        "    dense_weights = model.layers[-1].weights[0].numpy()  # Веса из Dense слоя (shape: [num_channels, num_classes])\n",
        "\n",
        "    # Берем веса для конкретного класса\n",
        "    class_weights = dense_weights[:, class_idx]\n",
        "\n",
        "    # Умножаем активации каналов на соответствующие веса\n",
        "    heatmap = np.dot(conv_outputs, class_weights)\n",
        "\n",
        "    # Нормализуем heatmap\n",
        "    heatmap = np.maximum(heatmap, 0)  # Убираем отрицательные значения\n",
        "    heatmap /= np.max(heatmap)  # Нормализация\n",
        "    return heatmap\n",
        "\n",
        "# Функция для визуализации тепловой карты\n",
        "def visualize_heatmap(img, heatmap):\n",
        "    plt.imshow(img)\n",
        "    plt.imshow(heatmap, cmap='jet', alpha=0.5)  # Наложение heatmap поверх изображения\n",
        "    plt.axis('off')\n",
        "    plt.show()"
      ],
      "metadata": {
        "id": "9RXDNbZXm_2C"
      },
      "execution_count": 48,
      "outputs": []
    },
    {
      "cell_type": "markdown",
      "source": [
        "Применение функции визуализации тепловой карты"
      ],
      "metadata": {
        "id": "oNejg9i5nDrT"
      }
    },
    {
      "cell_type": "code",
      "source": [
        "# Вывод 3 случайных изображений из тестового набора с тепловыми картами\n",
        "for _ in range(3):\n",
        "    # Случайный выбор изображения из тестового набора\n",
        "    idx = random.randint(0, len(x_test) - 1)\n",
        "    sample_img = x_test[idx]\n",
        "    true_label = np.argmax(y_test[idx])\n",
        "\n",
        "    # Предсказание класса\n",
        "    predicted_class = np.argmax(model.predict(np.expand_dims(sample_img, axis=0)))\n",
        "\n",
        "    # Построение тепловой карты\n",
        "    heatmap = grad_cam_with_weights(model, sample_img, predicted_class)\n",
        "\n",
        "    # Визуализация изображения и тепловой карты\n",
        "    print(f\"True Label: {true_label}, Predicted Class: {predicted_class}\")\n",
        "    visualize_heatmap(sample_img, heatmap)"
      ],
      "metadata": {
        "colab": {
          "base_uri": "https://localhost:8080/",
          "height": 1000
        },
        "id": "QKGz0zCFnDVZ",
        "outputId": "b7332515-1035-47a9-853e-fa1afaf8957b"
      },
      "execution_count": 49,
      "outputs": [
        {
          "output_type": "stream",
          "name": "stdout",
          "text": [
            "\u001b[1m1/1\u001b[0m \u001b[32m━━━━━━━━━━━━━━━━━━━━\u001b[0m\u001b[37m\u001b[0m \u001b[1m0s\u001b[0m 47ms/step\n",
            "True Label: 9, Predicted Class: 9\n"
          ]
        },
        {
          "output_type": "display_data",
          "data": {
            "text/plain": [
              "<Figure size 640x480 with 1 Axes>"
            ],
            "image/png": "[encoded data removed]"
          },
          "metadata": {}
        },
        {
          "output_type": "stream",
          "name": "stdout",
          "text": [
            "\u001b[1m1/1\u001b[0m \u001b[32m━━━━━━━━━━━━━━━━━━━━\u001b[0m\u001b[37m\u001b[0m \u001b[1m0s\u001b[0m 53ms/step\n",
            "True Label: 9, Predicted Class: 8\n"
          ]
        },
        {
          "output_type": "display_data",
          "data": {
            "text/plain": [
              "<Figure size 640x480 with 1 Axes>"
            ],
            "image/png": "[encoded data removed]"
          },
          "metadata": {}
        },
        {
          "output_type": "stream",
          "name": "stdout",
          "text": [
            "\u001b[1m1/1\u001b[0m \u001b[32m━━━━━━━━━━━━━━━━━━━━\u001b[0m\u001b[37m\u001b[0m \u001b[1m0s\u001b[0m 47ms/step\n",
            "True Label: 1, Predicted Class: 1\n"
          ]
        },
        {
          "output_type": "display_data",
          "data": {
            "text/plain": [
              "<Figure size 640x480 with 1 Axes>"
            ],
            "image/png": "[encoded data removed]"
          },
          "metadata": {}
        }
      ]
    },
    {
      "cell_type": "code",
      "source": [
        "import cv2"
      ],
      "metadata": {
        "id": "UrjB5LiBpjbv"
      },
      "execution_count": 9,
      "outputs": []
    },
    {
      "cell_type": "markdown",
      "source": [
        "Наложение тепловой карты на изображение"
      ],
      "metadata": {
        "id": "i61zAetHqP5b"
      }
    },
    {
      "cell_type": "code",
      "source": [
        "\"\"\"\n",
        "# Функция для наложения тепловой карты на изображение\n",
        "def overlay_heatmap_on_image(img, heatmap, alpha=0.5):\n",
        "    # Преобразуем тепловую карту в цветное изображение\n",
        "    heatmap_colored = plt.cm.jet(heatmap)[:, :, :3]  # Убираем альфа-канал\n",
        "    heatmap_colored = (heatmap_colored * 255).astype(np.uint8)  # Преобразуем в формат uint8\n",
        "\n",
        "    # Масштабируем изображение в диапазон [0, 255]\n",
        "    img_scaled = (img * 255).astype(np.uint8)\n",
        "\n",
        "    # Наложение тепловой карты на изображение\n",
        "    overlay = cv2.addWeighted(img_scaled, 1 - alpha, heatmap_colored, alpha, 0)\n",
        "    return overlay\n",
        "\"\"\""
      ],
      "metadata": {
        "id": "cQt4hHgZqNxN"
      },
      "execution_count": 50,
      "outputs": []
    },
    {
      "cell_type": "code",
      "source": [
        "# Функция для наложения тепловой карты на изображение\n",
        "def overlay_heatmap_on_image(img, heatmap, alpha=0.4):\n",
        "    # Масштабируем тепловую карту к размеру изображения\n",
        "    heatmap_resized = cv2.resize(heatmap, (img.shape[1], img.shape[0]))\n",
        "\n",
        "    # Преобразуем тепловую карту в цветное изображение (RGB)\n",
        "    heatmap_colored = plt.cm.jet(heatmap_resized)[:, :, :3]  # Убираем альфа-канал\n",
        "    heatmap_colored = (heatmap_colored * 255).astype(np.uint8)  # Преобразуем в uint8\n",
        "\n",
        "    # Масштабируем изображение в диапазон [0, 255]\n",
        "    img_scaled = (img * 255).astype(np.uint8)\n",
        "\n",
        "    # Наложение тепловой карты на изображение\n",
        "    overlay = cv2.addWeighted(img_scaled, 1 - alpha, heatmap_colored, alpha, 0)\n",
        "    return overlay"
      ],
      "metadata": {
        "id": "lA_IKCkqq12T"
      },
      "execution_count": 54,
      "outputs": []
    },
    {
      "cell_type": "markdown",
      "source": [
        "Применение функции визуализации тепловой карты"
      ],
      "metadata": {
        "id": "38BMhHAnqVCJ"
      }
    },
    {
      "cell_type": "code",
      "source": [
        "# Пример использования функции наложения\n",
        "for _ in range(3):\n",
        "    # Случайный выбор изображения из тестового набора\n",
        "    idx = random.randint(0, len(x_test) - 1)\n",
        "    sample_img = x_test[idx]\n",
        "    true_label = np.argmax(y_test[idx])\n",
        "\n",
        "    # Предсказание класса\n",
        "    predicted_class = np.argmax(model.predict(np.expand_dims(sample_img, axis=0)))\n",
        "\n",
        "    # Построение тепловой карты\n",
        "    heatmap = grad_cam_with_weights(model, sample_img, predicted_class)\n",
        "\n",
        "    # Наложение тепловой карты на изображение\n",
        "    overlay = overlay_heatmap_on_image(sample_img, heatmap)\n",
        "\n",
        "    #Ниже смотри визуализацию в другом масштабе\n",
        "\n",
        "    # Визуализация\n",
        "    print(f\"True Label: {true_label}, Predicted Class: {predicted_class}\")\n",
        "    plt.figure(figsize=(10, 5))\n",
        "    plt.subplot(1, 2, 1)\n",
        "    plt.title(\"Original Image\")\n",
        "    plt.imshow(sample_img)\n",
        "    plt.axis('off')\n",
        "\n",
        "    plt.subplot(1, 2, 2)\n",
        "    plt.title(\"Image with Heatmap Overlay\")\n",
        "    plt.imshow(overlay)\n",
        "    plt.axis('off')\n",
        "    plt.show()\n",
        "\n",
        "\"\"\"\n",
        "    # Визуализация\n",
        "    print(f\"True Label: {true_label}, Predicted Class: {predicted_class}\")\n",
        "    plt.figure(figsize=(10, 5))\n",
        "\n",
        "    # Оригинальное изображение\n",
        "    plt.subplot(1, 2, 1)\n",
        "    plt.title(\"Original Image\")\n",
        "    plt.imshow(sample_img)\n",
        "    #plt.axis('scaled')  # Сохраняем реальный масштаб\n",
        "    plt.axis('on')\n",
        "\n",
        "    # Изображение с наложенной тепловой картой\n",
        "    plt.subplot(1, 2, 2)\n",
        "    plt.title(\"Image with Heatmap Overlay\")\n",
        "    plt.imshow(overlay)\n",
        "    #plt.axis('scaled')  # Сохраняем реальный масштаб\n",
        "    plt.axis('on')\n",
        "\n",
        "    plt.show()\n",
        "\"\"\"\n",
        "\"\"\"\n",
        "      # Визуализация\n",
        "    print(f\"True Label: {true_label}, Predicted Class: {predicted_class}\")\n",
        "\n",
        "    # Устанавливаем DPI для улучшения качества изображения\n",
        "    plt.figure(figsize=(5, 5), dpi=200)\n",
        "\n",
        "    # Оригинальное изображение\n",
        "    plt.subplot(1, 2, 1)\n",
        "    plt.title(\"Original Image\")\n",
        "    plt.imshow(sample_img)\n",
        "    plt.axis('off')\n",
        "\n",
        "    # Изображение с наложенной тепловой картой\n",
        "    plt.subplot(1, 2, 2)\n",
        "    plt.title(\"Image with Heatmap Overlay\")\n",
        "    plt.imshow(overlay)\n",
        "    plt.axis('off')\n",
        "\n",
        "    plt.tight_layout()\n",
        "    plt.show()\n",
        "\"\"\"\n"
      ],
      "metadata": {
        "colab": {
          "base_uri": "https://localhost:8080/",
          "height": 1000
        },
        "id": "vOactmnGq95q",
        "outputId": "457d4879-6d9b-433a-c2e3-b966592d57fa"
      },
      "execution_count": 44,
      "outputs": [
        {
          "output_type": "stream",
          "name": "stdout",
          "text": [
            "\u001b[1m1/1\u001b[0m \u001b[32m━━━━━━━━━━━━━━━━━━━━\u001b[0m\u001b[37m\u001b[0m \u001b[1m0s\u001b[0m 38ms/step\n",
            "True Label: 7, Predicted Class: 6\n"
          ]
        },
        {
          "output_type": "display_data",
          "data": {
            "text/plain": [
              "<Figure size 1000x500 with 2 Axes>"
            ],
            "image/png": "[encoded data removed]"
          },
          "metadata": {}
        },
        {
          "output_type": "stream",
          "name": "stdout",
          "text": [
            "\u001b[1m1/1\u001b[0m \u001b[32m━━━━━━━━━━━━━━━━━━━━\u001b[0m\u001b[37m\u001b[0m \u001b[1m0s\u001b[0m 39ms/step\n",
            "True Label: 3, Predicted Class: 3\n"
          ]
        },
        {
          "output_type": "display_data",
          "data": {
            "text/plain": [
              "<Figure size 1000x500 with 2 Axes>"
            ],
            "image/png": "[encoded data removed]"
          },
          "metadata": {}
        },
        {
          "output_type": "stream",
          "name": "stdout",
          "text": [
            "\u001b[1m1/1\u001b[0m \u001b[32m━━━━━━━━━━━━━━━━━━━━\u001b[0m\u001b[37m\u001b[0m \u001b[1m0s\u001b[0m 37ms/step\n",
            "True Label: 3, Predicted Class: 2\n"
          ]
        },
        {
          "output_type": "display_data",
          "data": {
            "text/plain": [
              "<Figure size 1000x500 with 2 Axes>"
            ],
            "image/png": "[encoded data removed]"
          },
          "metadata": {}
        },
        {
          "output_type": "execute_result",
          "data": {
            "text/plain": [
              "'\\n      # Визуализация\\n    print(f\"True Label: {true_label}, Predicted Class: {predicted_class}\")\\n    \\n    # Устанавливаем DPI для улучшения качества изображения\\n    plt.figure(figsize=(5, 5), dpi=200)\\n\\n    # Оригинальное изображение\\n    plt.subplot(1, 2, 1)\\n    plt.title(\"Original Image\")\\n    plt.imshow(sample_img)\\n    plt.axis(\\'off\\')\\n\\n    # Изображение с наложенной тепловой картой\\n    plt.subplot(1, 2, 2)\\n    plt.title(\"Image with Heatmap Overlay\")\\n    plt.imshow(overlay)\\n    plt.axis(\\'off\\')\\n\\n    plt.tight_layout()\\n    plt.show()\\n'"
            ],
            "application/vnd.google.colaboratory.intrinsic+json": {
              "type": "string"
            }
          },
          "metadata": {},
          "execution_count": 44
        }
      ]
    },
    {
      "cell_type": "code",
      "source": [
        "# Пример использования функции наложения\n",
        "for _ in range(3):\n",
        "    # Случайный выбор изображения из тестового набора\n",
        "    idx = random.randint(0, len(x_test) - 1)\n",
        "    sample_img = x_test[idx]\n",
        "    true_label = np.argmax(y_test[idx])\n",
        "\n",
        "    # Предсказание класса\n",
        "    predicted_class = np.argmax(model.predict(np.expand_dims(sample_img, axis=0)))\n",
        "\n",
        "    # Построение тепловой карты\n",
        "    heatmap = grad_cam_with_weights(model, sample_img, predicted_class)\n",
        "\n",
        "    # Наложение тепловой карты на изображение\n",
        "    overlay = overlay_heatmap_on_image(sample_img, heatmap)\n",
        "\n",
        "    # Визуализация\n",
        "    print(f\"True Label: {true_label}, Predicted Class: {predicted_class}\")\n",
        "\n",
        "    # Устанавливаем размер графика 32x32 пикселя\n",
        "    plt.figure(figsize=(32, 32), dpi=4)  # Размер в дюймах: 32px / 100dpi = 0.32 дюйма\n",
        "\n",
        "        # Устанавливаем размер графика 32x32 пикселя\n",
        "    #plt.figure(figsize=(64, 64), dpi=4)  # Размер в дюймах: 32px / 100dpi = 0.32 дюйма\n",
        "\n",
        " # Устанавливаем размер графика 32x32 пикселя\n",
        "    #plt.figure(figsize=(32/100, 32/100), dpi=100)  # Размер в дюймах: 32px / 100dpi = 0.32 дюйма\n",
        "\n",
        "    # Оригинальное изображение\n",
        "    plt.subplot(1, 2, 1)# этот параметр говорит что мы создаем в одном окне два подграфика(картинки) и активируем 1-й из них\n",
        "    plt.title(\"Original Image\")\n",
        "    plt.imshow(sample_img)\n",
        "    plt.axis('off')\n",
        "\n",
        "    # Изображение с наложенной тепловой картой\n",
        "    plt.subplot(1, 2, 2)\n",
        "    plt.title(\"Image with Heatmap Overlay\")\n",
        "    plt.imshow(overlay)\n",
        "    plt.axis('off')\n",
        "\n",
        "    plt.tight_layout()\n",
        "    plt.show()"
      ],
      "metadata": {
        "colab": {
          "base_uri": "https://localhost:8080/",
          "height": 316
        },
        "id": "spEaegEzsgjY",
        "outputId": "ce01950e-b298-4f8f-ee59-b77bcf60a780"
      },
      "execution_count": 61,
      "outputs": [
        {
          "output_type": "stream",
          "name": "stdout",
          "text": [
            "\u001b[1m1/1\u001b[0m \u001b[32m━━━━━━━━━━━━━━━━━━━━\u001b[0m\u001b[37m\u001b[0m \u001b[1m0s\u001b[0m 42ms/step\n",
            "True Label: 1, Predicted Class: 1\n"
          ]
        },
        {
          "output_type": "display_data",
          "data": {
            "text/plain": [
              "<Figure size 128x128 with 2 Axes>"
            ],
            "image/png": "[encoded data removed]"
          },
          "metadata": {}
        },
        {
          "output_type": "stream",
          "name": "stdout",
          "text": [
            "\u001b[1m1/1\u001b[0m \u001b[32m━━━━━━━━━━━━━━━━━━━━\u001b[0m\u001b[37m\u001b[0m \u001b[1m0s\u001b[0m 39ms/step\n",
            "True Label: 4, Predicted Class: 3\n"
          ]
        },
        {
          "output_type": "display_data",
          "data": {
            "text/plain": [
              "<Figure size 128x128 with 2 Axes>"
            ],
            "image/png": "[encoded data removed]"
          },
          "metadata": {}
        },
        {
          "output_type": "stream",
          "name": "stdout",
          "text": [
            "\u001b[1m1/1\u001b[0m \u001b[32m━━━━━━━━━━━━━━━━━━━━\u001b[0m\u001b[37m\u001b[0m \u001b[1m0s\u001b[0m 45ms/step\n",
            "True Label: 9, Predicted Class: 1\n"
          ]
        },
        {
          "output_type": "display_data",
          "data": {
            "text/plain": [
              "<Figure size 128x128 with 2 Axes>"
            ],
            "image/png": "[encoded data removed]"
          },
          "metadata": {}
        }
      ]
    },
    {
      "cell_type": "markdown",
      "source": [
        "**Объяснение кода:**\n",
        "Импорт библиотек:\n",
        "TensorFlow используется для создания и обучения модели.\n",
        "Matplotlib используется для визуализации тепловых карт.\n",
        "Загрузка данных:\n",
        "CIFAR-10 — это набор данных с 10 классами изображений размером 32x32.\n",
        "Данные нормализуются, а метки преобразуются в формат one-hot encoding.\n",
        "Определение модели:\n",
        "Модель включает три сверточных слоя с активацией ReLU и слоями MaxPooling2D.\n",
        "В конце используется Global Average Pooling (GAP) и полносвязный слой с softmax для классификации.\n",
        "**Grad-CAM с использованием весов GAP**:\n",
        "Карта активации строится с использованием весов между GAP и выходным слоем.\n",
        "Активации сверточного слоя умножаются на соответствующие веса, чтобы получить тепловую карту.\n",
        "Визуализация:\n",
        "Для каждого изображения тепловая карта накладывается на оригинальное изображение с использованием цветовой карты jet."
      ],
      "metadata": {
        "id": "P5A4FNRDnST-"
      }
    }
  ]
}