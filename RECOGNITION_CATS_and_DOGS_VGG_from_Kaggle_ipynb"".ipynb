{
  "nbformat": 4,
  "nbformat_minor": 0,
  "metadata": {
    "colab": {
      "provenance": [],
      "include_colab_link": true
    },
    "kernelspec": {
      "name": "python3",
      "display_name": "Python 3"
    },
    "accelerator": "GPU"
  },
  "cells": [
    {
      "cell_type": "markdown",
      "metadata": {
        "id": "view-in-github",
        "colab_type": "text"
      },
      "source": [
        "<a href=\"https://colab.research.google.com/github/itc202/praktik/blob/main/RECOGNITION_CATS_and_DOGS_VGG_from_Kaggle_ipynb%22%22.ipynb\" target=\"_parent\"><img src=\"https://colab.research.google.com/assets/colab-badge.svg\" alt=\"Open In Colab\"/></a>"
      ]
    },
    {
      "cell_type": "markdown",
      "metadata": {
        "id": "WgwApfwstVIQ"
      },
      "source": [
        "# Распознавание кошек и собак\n",
        "\n",
        "Источник:\n",
        "https://www.kaggle.com/code/scratchpad/notebook7b26701e34/edit\n",
        "\n",
        "Все ноутбуки на эту тему:\n",
        "https://www.kaggle.com/datasets/shaunthesheep/microsoft-catsvsdogs-dataset/code\n",
        "\n"
      ]
    },
    {
      "cell_type": "markdown",
      "metadata": {
        "id": "JfjztR0aXfbQ"
      },
      "source": []
    },
    {
      "cell_type": "code",
      "source": [
        "import os\n",
        "import random\n",
        "\n",
        "import cv2\n",
        "import numpy\n",
        "\n",
        "from sklearn.model_selection import train_test_split\n",
        "from sklearn.preprocessing import OneHotEncoder\n",
        "from sklearn.metrics import accuracy_score\n",
        "\n",
        "from tensorflow.keras.models import Sequential\n",
        "from tensorflow.keras.layers import Dense, Flatten, Dropout\n",
        "\n",
        "import tensorflow\n",
        "from tensorflow.keras.applications import VGG16"
      ],
      "metadata": {
        "id": "0tFA_F0E5L7l"
      },
      "execution_count": null,
      "outputs": []
    },
    {
      "cell_type": "markdown",
      "source": [
        "Дата сет можно скачать здесь:\n",
        "https://www.microsoft.com/en-us/download/details.aspx?id=54765"
      ],
      "metadata": {
        "id": "fLUNVAl05ebL"
      }
    },
    {
      "cell_type": "code",
      "source": [
        "#В своем ноутбуке нужно пропсать адреса своих папок с данными\n",
        "CATS = \"/kaggle/input/microsoft-catsvsdogs-dataset/PetImages/Cat\"\n",
        "DOGS = \"/kaggle/input/microsoft-catsvsdogs-dataset/PetImages/Dog\"\n",
        "\n",
        "IMAGE_SIZE = (64, 64)"
      ],
      "metadata": {
        "id": "Ns9kOpTe5OTl"
      },
      "execution_count": null,
      "outputs": []
    },
    {
      "cell_type": "code",
      "source": [
        "def get_data(directory: str, label: int) -> numpy.ndarray:\n",
        "    images = []\n",
        "    labels = []\n",
        "\n",
        "    for file_name in os.listdir(directory):\n",
        "        image = cv2.imread(os.path.join(directory, file_name))\n",
        "\n",
        "        if image is not None:\n",
        "            image = image.astype(numpy.float32) / 255.\n",
        "            image = cv2.resize(image, IMAGE_SIZE)\n",
        "\n",
        "            images.append(image)\n",
        "            labels.append(label)\n",
        "\n",
        "    return numpy.array([(image, label) for image, label in zip(images, labels)], dtype=object)"
      ],
      "metadata": {
        "id": "xAQOpQMP5ifb"
      },
      "execution_count": null,
      "outputs": []
    },
    {
      "cell_type": "code",
      "source": [
        "raw_data = numpy.concatenate((get_data(CATS, 0), get_data(DOGS, 1)), axis=0)"
      ],
      "metadata": {
        "id": "vfuhUu005mEr"
      },
      "execution_count": null,
      "outputs": []
    },
    {
      "cell_type": "code",
      "source": [
        "data, labels = numpy.array([pair[0] for pair in raw_data]), numpy.array([pair[1] for pair in raw_data])"
      ],
      "metadata": {
        "id": "Qet9KlzW5pDz"
      },
      "execution_count": null,
      "outputs": []
    },
    {
      "cell_type": "code",
      "source": [
        "one_hot_encoder = OneHotEncoder()\n",
        "\n",
        "labels = one_hot_encoder.fit_transform(labels.reshape(-1, 1))"
      ],
      "metadata": {
        "id": "IsOHTqWA5rJr"
      },
      "execution_count": null,
      "outputs": []
    },
    {
      "cell_type": "code",
      "source": [
        "train_data, test_data, train_labels, test_labels = train_test_split(data, labels.toarray(), test_size=0.2, random_state=1)"
      ],
      "metadata": {
        "id": "UBc04A-i5vvx"
      },
      "execution_count": null,
      "outputs": []
    },
    {
      "cell_type": "code",
      "source": [
        "vgg16 = VGG16(weights='imagenet', include_top=False, input_shape=(64, 64, 3))\n",
        "vgg16.trainable = False"
      ],
      "metadata": {
        "id": "x0LgaB2S5yVK"
      },
      "execution_count": null,
      "outputs": []
    },
    {
      "cell_type": "code",
      "source": [
        "model = Sequential([\n",
        "    vgg16,\n",
        "    Flatten(),\n",
        "    Dense(2048, activation=\"relu\"),\n",
        "    Dropout(0.25),\n",
        "    Dense(1024, activation=\"relu\"),\n",
        "    Dropout(0.25),\n",
        "    Dense(512, activation=\"relu\"),\n",
        "    Dropout(0.25),\n",
        "    Dense(256, activation=\"relu\"),\n",
        "    Dropout(0.5),\n",
        "    Dense(2, activation=\"softmax\"),\n",
        "])"
      ],
      "metadata": {
        "id": "Hh_9NQQ851TD"
      },
      "execution_count": null,
      "outputs": []
    },
    {
      "cell_type": "code",
      "source": [
        "model.compile(\n",
        "        optimizer=\"adam\",\n",
        "        loss=\"categorical_crossentropy\",\n",
        "        metrics=[\"accuracy\"]\n",
        ")"
      ],
      "metadata": {
        "id": "GrMxdenC536q"
      },
      "execution_count": null,
      "outputs": []
    },
    {
      "cell_type": "code",
      "source": [
        "#model.fit(train_data, train_labels, epochs=10, batch_size=32, validation_data=(test_data, test_labels))"
      ],
      "metadata": {
        "id": "SRN4j1-S6UTf"
      },
      "execution_count": null,
      "outputs": []
    },
    {
      "cell_type": "code",
      "source": [
        "history = model.fit(train_data, train_labels, epochs=10, batch_size=32, validation_data=(test_data, test_labels))"
      ],
      "metadata": {
        "id": "IxZ0eW2L6aNH"
      },
      "execution_count": null,
      "outputs": []
    },
    {
      "cell_type": "markdown",
      "source": [
        "Далее можно всатвить задание и код из исходного ноутбука , где созадем свою сеть с нуля"
      ],
      "metadata": {
        "id": "u7HBobNc6J7Q"
      }
    },
    {
      "cell_type": "code",
      "source": [
        "# Построим изменение точности на трейновой (оранжевая линия) и тестовой (синяя линия)\n",
        "# выборках\n",
        "plt.plot(history.history['val_accuracy'], '-o', label='validation accuracy')\n",
        "plt.plot(history.history['accuracy'], '--s', label='training accuracy')\n",
        "plt.legend();"
      ],
      "metadata": {
        "id": "WuXeXXH96f5v"
      },
      "execution_count": null,
      "outputs": []
    },
    {
      "cell_type": "code",
      "source": [
        "# Построим изменение потерь на трейновой (оранжевая линия) и тестовой (синяя линия)\n",
        "# выборках\n",
        "plt.plot(history.history['val_loss'], '-o', label='validation loss')\n",
        "plt.plot(history.history['loss'], '--s', label='training loss')\n",
        "plt.legend();"
      ],
      "metadata": {
        "id": "Zmw6Yg3T6ghp"
      },
      "execution_count": null,
      "outputs": []
    }
  ]
}